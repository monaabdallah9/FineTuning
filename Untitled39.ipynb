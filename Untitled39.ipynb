{
  "nbformat": 4,
  "nbformat_minor": 0,
  "metadata": {
    "colab": {
      "provenance": [],
      "gpuType": "T4"
    },
    "kernelspec": {
      "name": "python3",
      "display_name": "Python 3"
    },
    "language_info": {
      "name": "python"
    },
    "accelerator": "GPU"
  },
  "cells": [
    {
      "cell_type": "code",
      "execution_count": 1,
      "metadata": {
        "id": "iAUEWCJWIhm_"
      },
      "outputs": [],
      "source": [
        "import torch\n",
        "import torch.nn as nn\n",
        "import torch.optim as optim\n",
        "import torchvision.transforms as transforms\n",
        "import torchvision.datasets as datasets\n",
        "import torchvision.models as models\n",
        "from torch.utils.data import DataLoader"
      ]
    },
    {
      "cell_type": "code",
      "source": [
        "device = torch.device(\"cuda\" if torch.cuda.is_available() else \"cpu\")"
      ],
      "metadata": {
        "id": "EHVwWK2cK5_4"
      },
      "execution_count": 2,
      "outputs": []
    },
    {
      "cell_type": "code",
      "source": [
        "transform = transforms.Compose([\n",
        "    transforms.Resize((224, 224)),  # تغيير الحجم ليناسب ResNet-50\n",
        "    transforms.ToTensor(),\n",
        "    transforms.Normalize((0.5, 0.5, 0.5), (0.5, 0.5, 0.5))  # تطبيع البيانات\n",
        "])"
      ],
      "metadata": {
        "id": "3nQIjQchK_B1"
      },
      "execution_count": 3,
      "outputs": []
    },
    {
      "cell_type": "code",
      "source": [
        "train_dataset = datasets.CIFAR10(root=\"./data\", train=True, transform=transform, download=True)\n",
        "test_dataset = datasets.CIFAR10(root=\"./data\", train=False, transform=transform, download=True)"
      ],
      "metadata": {
        "colab": {
          "base_uri": "https://localhost:8080/"
        },
        "id": "DrH9tOM7LBfy",
        "outputId": "6d3cdbc6-6c61-4d5e-c5df-1cd0078456b8"
      },
      "execution_count": 4,
      "outputs": [
        {
          "output_type": "stream",
          "name": "stdout",
          "text": [
            "Downloading https://www.cs.toronto.edu/~kriz/cifar-10-python.tar.gz to ./data/cifar-10-python.tar.gz\n"
          ]
        },
        {
          "output_type": "stream",
          "name": "stderr",
          "text": [
            "100%|██████████| 170M/170M [00:18<00:00, 9.02MB/s]\n"
          ]
        },
        {
          "output_type": "stream",
          "name": "stdout",
          "text": [
            "Extracting ./data/cifar-10-python.tar.gz to ./data\n",
            "Files already downloaded and verified\n"
          ]
        }
      ]
    },
    {
      "cell_type": "code",
      "source": [
        "train_loader = DataLoader(train_dataset, batch_size=32, shuffle=True)\n",
        "test_loader = DataLoader(test_dataset, batch_size=32, shuffle=False)"
      ],
      "metadata": {
        "id": "sMvR7KkqL_dM"
      },
      "execution_count": 12,
      "outputs": []
    },
    {
      "cell_type": "code",
      "source": [
        "def get_model():\n",
        "    model = models.resnet50(pretrained=True)\n",
        "    num_classes = 10\n",
        "    model.fc = nn.Linear(model.fc.in_features, num_classes)\n",
        "    return model.to(device)"
      ],
      "metadata": {
        "id": "0NnCjTeZMHlM"
      },
      "execution_count": 13,
      "outputs": []
    },
    {
      "cell_type": "code",
      "source": [
        "def train_model(model, train_loader, num_epochs, optimizer, criterion, mode=\"baseline\"):\n",
        "    losses = []\n",
        "    model.train()\n",
        "    for epoch in range(num_epochs):\n",
        "        running_loss = 0.0\n",
        "        for images, labels in train_loader:\n",
        "            images, labels = images.to(device), labels.to(device)\n",
        "\n",
        "            optimizer.zero_grad()\n",
        "            outputs = model(images)\n",
        "            loss = criterion(outputs, labels)\n",
        "            loss.backward()\n",
        "            optimizer.step()\n",
        "\n",
        "            running_loss += loss.item()\n",
        "\n",
        "        avg_loss = running_loss / len(train_loader)\n",
        "        losses.append(avg_loss)\n",
        "        print(f\"{mode} - Epoch [{epoch+1}/{num_epochs}], Loss: {avg_loss:.4f}\")\n",
        "\n",
        "    return losses"
      ],
      "metadata": {
        "id": "pGFUPpRPMJ10"
      },
      "execution_count": 14,
      "outputs": []
    },
    {
      "cell_type": "code",
      "source": [
        "model_baseline = get_model()\n",
        "for param in model_baseline.parameters():\n",
        "    param.requires_grad = False  # تجميد كل الطبقات\n",
        "for param in model_baseline.fc.parameters():\n",
        "    param.requires_grad = True"
      ],
      "metadata": {
        "id": "HD4to--HMNru"
      },
      "execution_count": 15,
      "outputs": []
    },
    {
      "cell_type": "code",
      "source": [
        "optimizer_baseline = optim.Adam(model_baseline.fc.parameters(), lr=0.001)\n",
        "criterion = nn.CrossEntropyLoss()\n"
      ],
      "metadata": {
        "id": "DGJKNY3GMR3x"
      },
      "execution_count": 16,
      "outputs": []
    },
    {
      "cell_type": "code",
      "source": [
        "losses_baseline = train_model(model_baseline, train_loader, num_epochs=5, optimizer=optimizer_baseline, criterion=criterion, mode=\"Baseline\")\n"
      ],
      "metadata": {
        "colab": {
          "base_uri": "https://localhost:8080/"
        },
        "id": "sf2Fzxm3MUi1",
        "outputId": "2623e120-9b3d-4afe-c192-d227ccc2c320"
      },
      "execution_count": 17,
      "outputs": [
        {
          "output_type": "stream",
          "name": "stdout",
          "text": [
            "Baseline - Epoch [1/5], Loss: 0.7545\n",
            "Baseline - Epoch [2/5], Loss: 0.6254\n",
            "Baseline - Epoch [3/5], Loss: 0.6003\n",
            "Baseline - Epoch [4/5], Loss: 0.5852\n",
            "Baseline - Epoch [5/5], Loss: 0.5656\n"
          ]
        }
      ]
    },
    {
      "cell_type": "code",
      "source": [
        "torch.save(model_baseline.state_dict(), \"resnet50_baseline.pth\")\n"
      ],
      "metadata": {
        "id": "HB0r0rCFMW3D"
      },
      "execution_count": 18,
      "outputs": []
    },
    {
      "cell_type": "code",
      "source": [
        "#Fine-Tuning\n",
        "model_finetuned = get_model()\n",
        "for param in model_finetuned.parameters():\n",
        "    param.requires_grad = False\n",
        "for param in model_finetuned.layer4.parameters():\n",
        "    param.requires_grad = True\n",
        "for param in model_finetuned.fc.parameters():\n",
        "    param.requires_grad = True\n",
        "\n",
        "optimizer_finetuned = optim.Adam([\n",
        "    {\"params\": model_finetuned.layer4.parameters(), \"lr\": 1e-4},  # Fine-tuning\n",
        "    {\"params\": model_finetuned.fc.parameters(), \"lr\": 1e-3}\n",
        "])"
      ],
      "metadata": {
        "id": "hYOTb8uQQkr9"
      },
      "execution_count": 19,
      "outputs": []
    },
    {
      "cell_type": "code",
      "source": [
        "losses_finetuned = train_model(model_finetuned, train_loader, num_epochs=5, optimizer=optimizer_finetuned, criterion=criterion, mode=\"Fine-Tuned\")"
      ],
      "metadata": {
        "colab": {
          "base_uri": "https://localhost:8080/"
        },
        "id": "l4bEhoZKQrvM",
        "outputId": "75351b13-820f-461d-bb42-76c1f7e9873f"
      },
      "execution_count": 20,
      "outputs": [
        {
          "output_type": "stream",
          "name": "stdout",
          "text": [
            "Fine-Tuned - Epoch [1/5], Loss: 0.4428\n",
            "Fine-Tuned - Epoch [2/5], Loss: 0.2019\n",
            "Fine-Tuned - Epoch [3/5], Loss: 0.1201\n",
            "Fine-Tuned - Epoch [4/5], Loss: 0.0826\n",
            "Fine-Tuned - Epoch [5/5], Loss: 0.0682\n"
          ]
        }
      ]
    },
    {
      "cell_type": "code",
      "source": [
        "torch.save(model_finetuned.state_dict(), \"resnet50_finetuned.pth\")\n"
      ],
      "metadata": {
        "id": "BNqZkrE8QvNC"
      },
      "execution_count": 21,
      "outputs": []
    },
    {
      "cell_type": "code",
      "source": [
        "import matplotlib.pyplot as plt\n",
        "plt.plot(losses_baseline, label=\"Baseline\")\n",
        "plt.plot(losses_finetuned, label=\"Fine-Tuned\")\n",
        "plt.xlabel(\"Epochs\")\n",
        "plt.ylabel(\"Loss\")\n",
        "plt.title(\"Comparison of Training Loss (Baseline vs Fine-Tuned)\")\n",
        "plt.legend()\n",
        "plt.show()"
      ],
      "metadata": {
        "colab": {
          "base_uri": "https://localhost:8080/",
          "height": 472
        },
        "id": "X2L0Ut7fWCCJ",
        "outputId": "d5748ec1-4c01-412f-8565-5d250af74220"
      },
      "execution_count": 23,
      "outputs": [
        {
          "output_type": "display_data",
          "data": {
            "text/plain": [
              "<Figure size 640x480 with 1 Axes>"
            ],
            "image/png": "[encoded data removed]"
          },
          "metadata": {}
        }
      ]
    },
    {
      "cell_type": "code",
      "source": [],
      "metadata": {
        "id": "PhOzZ5UjWf9z"
      },
      "execution_count": null,
      "outputs": []
    }
  ]
}